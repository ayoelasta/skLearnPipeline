{
 "cells": [
  {
   "cell_type": "code",
   "execution_count": 15,
   "metadata": {
    "collapsed": true
   },
   "outputs": [],
   "source": [
    "# Import libraries\n",
    "import numpy as np\n",
    "import matplotlib.pyplot as plt\n",
    "import pandas as pd\n",
    "from sklearn.preprocessing import Imputer, LabelEncoder, MinMaxScaler, FunctionTransformer\n",
    "from sklearn.cross_validation import train_test_split\n",
    "from sklearn.pipeline import Pipeline, FeatureUnion\n",
    "from sklearn.tree import DecisionTreeRegressor\n",
    "\n"
   ]
  },
  {
   "cell_type": "code",
   "execution_count": 16,
   "metadata": {
    "collapsed": true
   },
   "outputs": [],
   "source": [
    "# Read in dataset\n",
    "dataset = pd.read_csv('../data/train_dataset.csv')"
   ]
  },
  {
   "cell_type": "code",
   "execution_count": 17,
   "metadata": {
    "collapsed": true
   },
   "outputs": [],
   "source": [
    "# Select relevant columns\n",
    "X = dataset[['icon', 'precipType', 'cloudCover', 'humidity', 'temperature', 'visibility', 'month', 'Hour']]\n",
    "y = dataset[['Irradiance']]"
   ]
  },
  {
   "cell_type": "code",
   "execution_count": 18,
   "metadata": {},
   "outputs": [
    {
     "name": "stderr",
     "output_type": "stream",
     "text": [
      "C:\\ProgramData\\Anaconda2\\lib\\site-packages\\ipykernel_launcher.py:4: SettingWithCopyWarning: \n",
      "A value is trying to be set on a copy of a slice from a DataFrame.\n",
      "Try using .loc[row_indexer,col_indexer] = value instead\n",
      "\n",
      "See the caveats in the documentation: http://pandas.pydata.org/pandas-docs/stable/indexing.html#indexing-view-versus-copy\n",
      "  after removing the cwd from sys.path.\n"
     ]
    }
   ],
   "source": [
    "# The precipType feature contains NAs which will throw up issues later so we need to think of a strategy to replace the NAs.\n",
    "# For now I have just replaced them with 'rain'\n",
    "\n",
    "X['precipType'] = X['precipType'].fillna('rain')"
   ]
  },
  {
   "cell_type": "code",
   "execution_count": 19,
   "metadata": {},
   "outputs": [],
   "source": [
    "# Splitting the dataset into the Training set and Test set.\n",
    "\n",
    "#X_train, X_test, y_train, y_test = train_test_split(X, y, test_size = 0.2, random_state = 0)"
   ]
  },
  {
   "cell_type": "code",
   "execution_count": 20,
   "metadata": {
    "collapsed": true
   },
   "outputs": [],
   "source": [
    "# Custom Transform script for separating categorical and numerical variables for future use\n",
    "\n",
    "def numFeat(data):\n",
    "    return data[['cloudCover', 'humidity', 'temperature', 'visibility', 'month', 'Hour']]\n",
    "\n",
    "def catFeat(data):\n",
    "    return pd.get_dummies(data[['icon', 'precipType']])\n",
    "\n"
   ]
  },
  {
   "cell_type": "code",
   "execution_count": 21,
   "metadata": {
    "collapsed": true
   },
   "outputs": [],
   "source": [
    "# Transform features using the custom transformer. The numFeat simply returns the numerical variables (no transform).\n",
    "# catFeat returns the encoded categorical variables. FeatureUnion cocatenates both datasets\n",
    "\n",
    "features = FeatureUnion([('f1',FunctionTransformer(numFeat, validate=False)),\n",
    "                         ('f2',FunctionTransformer(catFeat, validate=False))] )\n",
    "encoder_pipeline = Pipeline( [('f', features)] )\n",
    "\n",
    "encoder_pipeline.fit(X, y)\n",
    "X_new = encoder_pipeline.transform(X)"
   ]
  },
  {
   "cell_type": "code",
   "execution_count": 22,
   "metadata": {},
   "outputs": [],
   "source": [
    "# Write the transformed dataset into a csv\n",
    "\n",
    "#np.savetxt(\"encoded.csv\", X_new, delimiter=\",\")"
   ]
  },
  {
   "cell_type": "code",
   "execution_count": 23,
   "metadata": {
    "collapsed": true
   },
   "outputs": [],
   "source": [
    "# Build Pipeline\n",
    "\n",
    "parameters = [];\n",
    "parameters.append(('imp', Imputer(missing_values='NaN', strategy='mean', axis=0, copy=False)))\n",
    "#parameters.append(('clf', BaggingRegressor(n_estimators=50, random_state = 0)))\n",
    "parameters.append(('clf',  DecisionTreeRegressor(random_state = 0)))\n",
    "\n"
   ]
  },
  {
   "cell_type": "code",
   "execution_count": 24,
   "metadata": {},
   "outputs": [
    {
     "data": {
      "text/plain": [
       "Pipeline(memory=None,\n",
       "     steps=[('imp', Imputer(axis=0, copy=False, missing_values='NaN', strategy='mean', verbose=0)), ('clf', DecisionTreeRegressor(criterion='mse', max_depth=None, max_features=None,\n",
       "           max_leaf_nodes=None, min_impurity_decrease=0.0,\n",
       "           min_impurity_split=None, min_samples_leaf=1,\n",
       "           min_samples_split=2, min_weight_fraction_leaf=0.0,\n",
       "           presort=False, random_state=0, splitter='best'))])"
      ]
     },
     "execution_count": 24,
     "metadata": {},
     "output_type": "execute_result"
    }
   ],
   "source": [
    "# Model Pipeline\n",
    "model_pipeline = Pipeline(parameters)\n",
    "\n",
    "# Fit the pipeline\n",
    "model_pipeline.fit(X_new, y)"
   ]
  },
  {
   "cell_type": "code",
   "execution_count": 25,
   "metadata": {
    "collapsed": true
   },
   "outputs": [],
   "source": [
    "# Test predictor Pipeline using test data 'temp'. Data in temp is from dataset\n",
    "\n",
    "temp = [0.27,0.82,49.49,9.49,12,11,0,0,0,0,1,0,0,0,0,1,0]\n",
    "#temp2 = [0.27, 0.82, 49.49, 9.49, 12, 11]\n",
    "#temp2 = np.array(temp2).reshape((1, -1))\n",
    "temp = np.array(temp).reshape((1, -1))"
   ]
  },
  {
   "cell_type": "code",
   "execution_count": 26,
   "metadata": {},
   "outputs": [
    {
     "name": "stdout",
     "output_type": "stream",
     "text": [
      "[ 162.73040833]\n"
     ]
    }
   ],
   "source": [
    "# Compare the result to original value (from data) Irradiance = 162.73\n",
    "y_pred = model_pipeline.predict(temp)\n",
    "print(y_pred)"
   ]
  }
 ],
 "metadata": {
  "kernelspec": {
   "display_name": "Python 2",
   "language": "python",
   "name": "python2"
  },
  "language_info": {
   "codemirror_mode": {
    "name": "ipython",
    "version": 2
   },
   "file_extension": ".py",
   "mimetype": "text/x-python",
   "name": "python",
   "nbconvert_exporter": "python",
   "pygments_lexer": "ipython2",
   "version": "2.7.14"
  }
 },
 "nbformat": 4,
 "nbformat_minor": 2
}
